{
 "cells": [
  {
   "cell_type": "code",
   "execution_count": null,
   "id": "cfbc5c24-f422-4d09-8a78-058919ce1711",
   "metadata": {},
   "outputs": [],
   "source": []
  }
 ],
 "metadata": {
  "kernelspec": {
   "display_name": "",
   "name": ""
  },
  "language_info": {
   "name": ""
  }
 },
 "nbformat": 4,
 "nbformat_minor": 5
}
