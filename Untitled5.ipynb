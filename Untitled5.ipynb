{
 "cells": [
  {
   "cell_type": "code",
   "execution_count": 3,
   "id": "ca5d0b6b-31ae-4e3b-9504-bd145061054b",
   "metadata": {},
   "outputs": [
    {
     "data": {
      "application/vnd.plotly.v1+json": {
       "config": {
        "plotlyServerURL": "https://plot.ly"
       },
       "data": [
        {
         "customdata": [
          [
           209451,
           7896,
           0,
           "Afghanistan"
          ],
          [
           334457,
           3598,
           0,
           "Albania"
          ],
          [
           271496,
           6881,
           0,
           "Algeria"
          ],
          [
           47890,
           165,
           0,
           "Andorra"
          ],
          [
           105288,
           1933,
           0,
           "Angola"
          ],
          [
           11,
           0,
           0,
           "Antarctica"
          ],
          [
           9106,
           146,
           0,
           "Antigua and Barbuda"
          ],
          [
           10044957,
           130472,
           0,
           "Argentina"
          ],
          [
           447308,
           8727,
           0,
           "Armenia"
          ],
          [
           11399460,
           19574,
           0,
           "Australia"
          ],
          [
           5961143,
           21970,
           0,
           "Austria"
          ],
          [
           828825,
           10138,
           0,
           "Azerbaijan"
          ],
          [
           37491,
           833,
           0,
           "Bahamas"
          ],
          [
           710693,
           1553,
           0,
           "Bahrain"
          ],
          [
           2037871,
           29445,
           0,
           "Bangladesh"
          ],
          [
           106798,
           579,
           0,
           "Barbados"
          ],
          [
           994037,
           7118,
           0,
           "Belarus"
          ],
          [
           4739365,
           33814,
           0,
           "Belgium"
          ],
          [
           70757,
           688,
           0,
           "Belize"
          ],
          [
           27999,
           163,
           0,
           "Benin"
          ],
          [
           62627,
           21,
           0,
           "Bhutan"
          ],
          [
           1194277,
           22365,
           0,
           "Bolivia"
          ],
          [
           401729,
           16280,
           0,
           "Bosnia and Herzegovina"
          ],
          [
           329758,
           2801,
           0,
           "Botswana"
          ],
          [
           37076053,
           699276,
           0,
           "Brazil"
          ],
          [
           279661,
           225,
           0,
           "Brunei"
          ],
          [
           1297523,
           38228,
           0,
           "Bulgaria"
          ],
          [
           22056,
           396,
           0,
           "Burkina Faso"
          ],
          [
           633950,
           19490,
           0,
           "Burma"
          ],
          [
           53631,
           38,
           0,
           "Burundi"
          ],
          [
           63244,
           413,
           0,
           "Cabo Verde"
          ],
          [
           138719,
           3056,
           0,
           "Cambodia"
          ],
          [
           124392,
           1965,
           0,
           "Cameroon"
          ],
          [
           4617095,
           51720,
           0,
           "Canada"
          ],
          [
           15368,
           113,
           0,
           "Central African Republic"
          ],
          [
           7679,
           194,
           0,
           "Chad"
          ],
          [
           5192286,
           64273,
           0,
           "Chile"
          ],
          [
           4903524,
           101056,
           0,
           "China"
          ],
          [
           6359093,
           142339,
           0,
           "Colombia"
          ],
          [
           9008,
           161,
           0,
           "Comoros"
          ],
          [
           25087,
           388,
           0,
           "Congo (Brazzaville)"
          ],
          [
           95749,
           1464,
           0,
           "Congo (Kinshasa)"
          ],
          [
           1209725,
           9245,
           0,
           "Costa Rica"
          ],
          [
           88263,
           834,
           0,
           "Cote d'Ivoire"
          ],
          [
           1269326,
           17987,
           0,
           "Croatia"
          ],
          [
           1112643,
           8530,
           0,
           "Cuba"
          ],
          [
           650685,
           1330,
           0,
           "Cyprus"
          ],
          [
           4618256,
           42491,
           0,
           "Czechia"
          ],
          [
           3451036,
           8345,
           0,
           "Denmark"
          ],
          [
           712,
           13,
           0,
           "Diamond Princess"
          ],
          [
           15690,
           189,
           0,
           "Djibouti"
          ],
          [
           15760,
           74,
           0,
           "Dominica"
          ],
          [
           660790,
           4384,
           0,
           "Dominican Republic"
          ],
          [
           1057121,
           36014,
           0,
           "Ecuador"
          ],
          [
           515759,
           24812,
           0,
           "Egypt"
          ],
          [
           201785,
           4230,
           0,
           "El Salvador"
          ],
          [
           17229,
           183,
           0,
           "Equatorial Guinea"
          ],
          [
           10189,
           103,
           0,
           "Eritrea"
          ],
          [
           615433,
           2946,
           0,
           "Estonia"
          ],
          [
           74267,
           1425,
           0,
           "Eswatini"
          ],
          [
           500116,
           7572,
           0,
           "Ethiopia"
          ],
          [
           68898,
           883,
           0,
           "Fiji"
          ],
          [
           1463644,
           8967,
           0,
           "Finland"
          ],
          [
           39866718,
           166176,
           0,
           "France"
          ],
          [
           48981,
           306,
           0,
           "Gabon"
          ],
          [
           12598,
           372,
           0,
           "Gambia"
          ],
          [
           1827537,
           16971,
           0,
           "Georgia"
          ],
          [
           38249060,
           168935,
           0,
           "Germany"
          ],
          [
           171229,
           1462,
           0,
           "Ghana"
          ],
          [
           5548487,
           34779,
           0,
           "Greece"
          ],
          [
           19680,
           238,
           0,
           "Grenada"
          ],
          [
           1238247,
           20182,
           0,
           "Guatemala"
          ],
          [
           38267,
           467,
           0,
           "Guinea"
          ],
          [
           8960,
           176,
           0,
           "Guinea-Bissau"
          ],
          [
           73075,
           1298,
           0,
           "Guyana"
          ],
          [
           34202,
           860,
           0,
           "Haiti"
          ],
          [
           29,
           0,
           0,
           "Holy See"
          ],
          [
           472250,
           11111,
           0,
           "Honduras"
          ],
          [
           2196804,
           48762,
           0,
           "Hungary"
          ],
          [
           209137,
           263,
           0,
           "Iceland"
          ],
          [
           44690738,
           530779,
           0,
           "India"
          ],
          [
           6738225,
           160941,
           0,
           "Indonesia"
          ],
          [
           7572311,
           144933,
           0,
           "Iran"
          ],
          [
           2465545,
           25375,
           0,
           "Iraq"
          ],
          [
           1704502,
           8708,
           0,
           "Ireland"
          ],
          [
           4803824,
           12329,
           0,
           "Israel"
          ],
          [
           25603510,
           188322,
           0,
           "Italy"
          ],
          [
           154416,
           3514,
           0,
           "Jamaica"
          ],
          [
           33320438,
           72997,
           0,
           "Japan"
          ],
          [
           1746997,
           14122,
           0,
           "Jordan"
          ],
          [
           1498668,
           19071,
           0,
           "Kazakhstan"
          ],
          [
           342937,
           5688,
           0,
           "Kenya"
          ],
          [
           5014,
           18,
           0,
           "Kiribati"
          ],
          [
           1,
           6,
           0,
           "Korea, North"
          ],
          [
           30615522,
           34093,
           0,
           "Korea, South"
          ],
          [
           273312,
           3211,
           0,
           "Kosovo"
          ],
          [
           663860,
           2570,
           0,
           "Kuwait"
          ],
          [
           206708,
           2991,
           0,
           "Kyrgyzstan"
          ],
          [
           218023,
           758,
           0,
           "Laos"
          ],
          [
           976255,
           6269,
           0,
           "Latvia"
          ],
          [
           1232828,
           10841,
           0,
           "Lebanon"
          ],
          [
           34790,
           723,
           0,
           "Lesotho"
          ],
          [
           8090,
           295,
           0,
           "Liberia"
          ],
          [
           507187,
           6437,
           0,
           "Libya"
          ],
          [
           21432,
           89,
           0,
           "Liechtenstein"
          ],
          [
           1307448,
           9596,
           0,
           "Lithuania"
          ],
          [
           317367,
           1220,
           0,
           "Luxembourg"
          ],
          [
           9,
           2,
           0,
           "MS Zaandam"
          ],
          [
           67889,
           1423,
           0,
           "Madagascar"
          ],
          [
           88707,
           2686,
           0,
           "Malawi"
          ],
          [
           5044718,
           36967,
           0,
           "Malaysia"
          ],
          [
           185738,
           311,
           0,
           "Maldives"
          ],
          [
           33062,
           743,
           0,
           "Mali"
          ],
          [
           117610,
           828,
           0,
           "Malta"
          ],
          [
           15649,
           17,
           0,
           "Marshall Islands"
          ],
          [
           63668,
           997,
           0,
           "Mauritania"
          ],
          [
           296042,
           1044,
           0,
           "Mauritius"
          ],
          [
           7483444,
           333188,
           0,
           "Mexico"
          ],
          [
           23948,
           61,
           0,
           "Micronesia"
          ],
          [
           611140,
           12003,
           0,
           "Moldova"
          ],
          [
           16121,
           67,
           0,
           "Monaco"
          ],
          [
           1007900,
           2136,
           0,
           "Mongolia"
          ],
          [
           288808,
           2808,
           0,
           "Montenegro"
          ],
          [
           1272490,
           16296,
           0,
           "Morocco"
          ],
          [
           233214,
           2242,
           0,
           "Mozambique"
          ],
          [
           171156,
           4090,
           0,
           "Namibia"
          ],
          [
           5247,
           1,
           0,
           "Nauru"
          ],
          [
           1001154,
           12020,
           0,
           "Nepal"
          ],
          [
           8712835,
           23707,
           0,
           "Netherlands"
          ],
          [
           2236114,
           2550,
           0,
           "New Zealand"
          ],
          [
           15655,
           245,
           0,
           "Nicaragua"
          ],
          [
           9508,
           315,
           0,
           "Niger"
          ],
          [
           266598,
           3155,
           0,
           "Nigeria"
          ],
          [
           346852,
           9662,
           0,
           "North Macedonia"
          ],
          [
           1479506,
           5213,
           0,
           "Norway"
          ],
          [
           399449,
           4628,
           0,
           "Oman"
          ],
          [
           1577411,
           30644,
           0,
           "Pakistan"
          ],
          [
           5991,
           9,
           0,
           "Palau"
          ],
          [
           1031731,
           8609,
           0,
           "Panama"
          ],
          [
           46825,
           670,
           0,
           "Papua New Guinea"
          ],
          [
           808401,
           19878,
           0,
           "Paraguay"
          ],
          [
           4487553,
           219539,
           0,
           "Peru"
          ],
          [
           4077452,
           66188,
           0,
           "Philippines"
          ],
          [
           6444960,
           119010,
           0,
           "Poland"
          ],
          [
           5570473,
           26266,
           0,
           "Portugal"
          ],
          [
           495090,
           688,
           0,
           "Qatar"
          ],
          [
           3346046,
           67736,
           0,
           "Romania"
          ],
          [
           22075858,
           388478,
           0,
           "Russia"
          ],
          [
           133194,
           1468,
           0,
           "Rwanda"
          ],
          [
           6597,
           47,
           0,
           "Saint Kitts and Nevis"
          ],
          [
           30004,
           409,
           0,
           "Saint Lucia"
          ],
          [
           9589,
           123,
           0,
           "Saint Vincent and the Grenadines"
          ],
          [
           16607,
           29,
           0,
           "Samoa"
          ],
          [
           23616,
           122,
           0,
           "San Marino"
          ],
          [
           6281,
           77,
           0,
           "Sao Tome and Principe"
          ],
          [
           830127,
           9618,
           0,
           "Saudi Arabia"
          ],
          [
           88926,
           1971,
           0,
           "Senegal"
          ],
          [
           2500142,
           17881,
           0,
           "Serbia"
          ],
          [
           50665,
           172,
           0,
           "Seychelles"
          ],
          [
           7760,
           126,
           0,
           "Sierra Leone"
          ],
          [
           2235294,
           1722,
           0,
           "Singapore"
          ],
          [
           2667551,
           21035,
           0,
           "Slovakia"
          ],
          [
           1331707,
           7078,
           0,
           "Slovenia"
          ],
          [
           24575,
           153,
           0,
           "Solomon Islands"
          ],
          [
           27324,
           1361,
           0,
           "Somalia"
          ],
          [
           4067067,
           102595,
           0,
           "South Africa"
          ],
          [
           18368,
           138,
           0,
           "South Sudan"
          ],
          [
           13770429,
           119479,
           0,
           "Spain"
          ],
          [
           672039,
           16830,
           0,
           "Sri Lanka"
          ],
          [
           63829,
           5017,
           0,
           "Sudan"
          ],
          [
           865,
           0,
           0,
           "Summer Olympics 2020"
          ],
          [
           82467,
           1404,
           0,
           "Suriname"
          ],
          [
           2699339,
           23777,
           0,
           "Sweden"
          ],
          [
           4413911,
           14210,
           0,
           "Switzerland"
          ],
          [
           57467,
           3164,
           0,
           "Syria"
          ],
          [
           9970937,
           17672,
           0,
           "Taiwan*"
          ],
          [
           17786,
           125,
           0,
           "Tajikistan"
          ],
          [
           42906,
           846,
           0,
           "Tanzania"
          ],
          [
           4728182,
           33918,
           0,
           "Thailand"
          ],
          [
           23419,
           138,
           0,
           "Timor-Leste"
          ],
          [
           39396,
           290,
           0,
           "Togo"
          ],
          [
           16810,
           13,
           0,
           "Tonga"
          ],
          [
           189918,
           4355,
           0,
           "Trinidad and Tobago"
          ],
          [
           1151126,
           29341,
           0,
           "Tunisia"
          ],
          [
           17042722,
           101492,
           0,
           "Turkey"
          ],
          [
           2805,
           0,
           0,
           "Tuvalu"
          ],
          [
           103802702,
           1123836,
           0,
           "US"
          ],
          [
           170544,
           3630,
           0,
           "Uganda"
          ],
          [
           5711929,
           119283,
           0,
           "Ukraine"
          ],
          [
           1053213,
           2349,
           0,
           "United Arab Emirates"
          ],
          [
           24658705,
           220721,
           0,
           "United Kingdom"
          ],
          [
           1034303,
           7617,
           0,
           "Uruguay"
          ],
          [
           251247,
           1637,
           0,
           "Uzbekistan"
          ],
          [
           12014,
           14,
           0,
           "Vanuatu"
          ],
          [
           552162,
           5854,
           0,
           "Venezuela"
          ],
          [
           11526994,
           43186,
           0,
           "Vietnam"
          ],
          [
           703228,
           5708,
           0,
           "West Bank and Gaza"
          ],
          [
           535,
           0,
           0,
           "Winter Olympics 2022"
          ],
          [
           11945,
           2159,
           0,
           "Yemen"
          ],
          [
           343135,
           4057,
           0,
           "Zambia"
          ],
          [
           264276,
           5671,
           0,
           "Zimbabwe"
          ]
         ],
         "geo": "geo",
         "hovertemplate": "<b>%{hovertext}</b><br><br>Confirmed=%{marker.color:.2f}<br>Deaths=%{customdata[1]:.2f}<br>Recovered=%{customdata[2]:.2f}<extra></extra>",
         "hovertext": [
          "Afghanistan",
          "Albania",
          "Algeria",
          "Andorra",
          "Angola",
          "Antarctica",
          "Antigua and Barbuda",
          "Argentina",
          "Armenia",
          "Australia",
          "Austria",
          "Azerbaijan",
          "Bahamas",
          "Bahrain",
          "Bangladesh",
          "Barbados",
          "Belarus",
          "Belgium",
          "Belize",
          "Benin",
          "Bhutan",
          "Bolivia",
          "Bosnia and Herzegovina",
          "Botswana",
          "Brazil",
          "Brunei",
          "Bulgaria",
          "Burkina Faso",
          "Burma",
          "Burundi",
          "Cabo Verde",
          "Cambodia",
          "Cameroon",
          "Canada",
          "Central African Republic",
          "Chad",
          "Chile",
          "China",
          "Colombia",
          "Comoros",
          "Congo (Brazzaville)",
          "Congo (Kinshasa)",
          "Costa Rica",
          "Cote d'Ivoire",
          "Croatia",
          "Cuba",
          "Cyprus",
          "Czechia",
          "Denmark",
          "Diamond Princess",
          "Djibouti",
          "Dominica",
          "Dominican Republic",
          "Ecuador",
          "Egypt",
          "El Salvador",
          "Equatorial Guinea",
          "Eritrea",
          "Estonia",
          "Eswatini",
          "Ethiopia",
          "Fiji",
          "Finland",
          "France",
          "Gabon",
          "Gambia",
          "Georgia",
          "Germany",
          "Ghana",
          "Greece",
          "Grenada",
          "Guatemala",
          "Guinea",
          "Guinea-Bissau",
          "Guyana",
          "Haiti",
          "Holy See",
          "Honduras",
          "Hungary",
          "Iceland",
          "India",
          "Indonesia",
          "Iran",
          "Iraq",
          "Ireland",
          "Israel",
          "Italy",
          "Jamaica",
          "Japan",
          "Jordan",
          "Kazakhstan",
          "Kenya",
          "Kiribati",
          "Korea, North",
          "Korea, South",
          "Kosovo",
          "Kuwait",
          "Kyrgyzstan",
          "Laos",
          "Latvia",
          "Lebanon",
          "Lesotho",
          "Liberia",
          "Libya",
          "Liechtenstein",
          "Lithuania",
          "Luxembourg",
          "MS Zaandam",
          "Madagascar",
          "Malawi",
          "Malaysia",
          "Maldives",
          "Mali",
          "Malta",
          "Marshall Islands",
          "Mauritania",
          "Mauritius",
          "Mexico",
          "Micronesia",
          "Moldova",
          "Monaco",
          "Mongolia",
          "Montenegro",
          "Morocco",
          "Mozambique",
          "Namibia",
          "Nauru",
          "Nepal",
          "Netherlands",
          "New Zealand",
          "Nicaragua",
          "Niger",
          "Nigeria",
          "North Macedonia",
          "Norway",
          "Oman",
          "Pakistan",
          "Palau",
          "Panama",
          "Papua New Guinea",
          "Paraguay",
          "Peru",
          "Philippines",
          "Poland",
          "Portugal",
          "Qatar",
          "Romania",
          "Russia",
          "Rwanda",
          "Saint Kitts and Nevis",
          "Saint Lucia",
          "Saint Vincent and the Grenadines",
          "Samoa",
          "San Marino",
          "Sao Tome and Principe",
          "Saudi Arabia",
          "Senegal",
          "Serbia",
          "Seychelles",
          "Sierra Leone",
          "Singapore",
          "Slovakia",
          "Slovenia",
          "Solomon Islands",
          "Somalia",
          "South Africa",
          "South Sudan",
          "Spain",
          "Sri Lanka",
          "Sudan",
          "Summer Olympics 2020",
          "Suriname",
          "Sweden",
          "Switzerland",
          "Syria",
          "Taiwan*",
          "Tajikistan",
          "Tanzania",
          "Thailand",
          "Timor-Leste",
          "Togo",
          "Tonga",
          "Trinidad and Tobago",
          "Tunisia",
          "Turkey",
          "Tuvalu",
          "US",
          "Uganda",
          "Ukraine",
          "United Arab Emirates",
          "United Kingdom",
          "Uruguay",
          "Uzbekistan",
          "Vanuatu",
          "Venezuela",
          "Vietnam",
          "West Bank and Gaza",
          "Winter Olympics 2022",
          "Yemen",
          "Zambia",
          "Zimbabwe"
         ],
         "legendgroup": "",
         "locationmode": "country names",
         "locations": [
          "Afghanistan",
          "Albania",
          "Algeria",
          "Andorra",
          "Angola",
          "Antarctica",
          "Antigua and Barbuda",
          "Argentina",
          "Armenia",
          "Australia",
          "Austria",
          "Azerbaijan",
          "Bahamas",
          "Bahrain",
          "Bangladesh",
          "Barbados",
          "Belarus",
          "Belgium",
          "Belize",
          "Benin",
          "Bhutan",
          "Bolivia",
          "Bosnia and Herzegovina",
          "Botswana",
          "Brazil",
          "Brunei",
          "Bulgaria",
          "Burkina Faso",
          "Burma",
          "Burundi",
          "Cabo Verde",
          "Cambodia",
          "Cameroon",
          "Canada",
          "Central African Republic",
          "Chad",
          "Chile",
          "China",
          "Colombia",
          "Comoros",
          "Congo (Brazzaville)",
          "Congo (Kinshasa)",
          "Costa Rica",
          "Cote d'Ivoire",
          "Croatia",
          "Cuba",
          "Cyprus",
          "Czechia",
          "Denmark",
          "Diamond Princess",
          "Djibouti",
          "Dominica",
          "Dominican Republic",
          "Ecuador",
          "Egypt",
          "El Salvador",
          "Equatorial Guinea",
          "Eritrea",
          "Estonia",
          "Eswatini",
          "Ethiopia",
          "Fiji",
          "Finland",
          "France",
          "Gabon",
          "Gambia",
          "Georgia",
          "Germany",
          "Ghana",
          "Greece",
          "Grenada",
          "Guatemala",
          "Guinea",
          "Guinea-Bissau",
          "Guyana",
          "Haiti",
          "Holy See",
          "Honduras",
          "Hungary",
          "Iceland",
          "India",
          "Indonesia",
          "Iran",
          "Iraq",
          "Ireland",
          "Israel",
          "Italy",
          "Jamaica",
          "Japan",
          "Jordan",
          "Kazakhstan",
          "Kenya",
          "Kiribati",
          "Korea, North",
          "Korea, South",
          "Kosovo",
          "Kuwait",
          "Kyrgyzstan",
          "Laos",
          "Latvia",
          "Lebanon",
          "Lesotho",
          "Liberia",
          "Libya",
          "Liechtenstein",
          "Lithuania",
          "Luxembourg",
          "MS Zaandam",
          "Madagascar",
          "Malawi",
          "Malaysia",
          "Maldives",
          "Mali",
          "Malta",
          "Marshall Islands",
          "Mauritania",
          "Mauritius",
          "Mexico",
          "Micronesia",
          "Moldova",
          "Monaco",
          "Mongolia",
          "Montenegro",
          "Morocco",
          "Mozambique",
          "Namibia",
          "Nauru",
          "Nepal",
          "Netherlands",
          "New Zealand",
          "Nicaragua",
          "Niger",
          "Nigeria",
          "North Macedonia",
          "Norway",
          "Oman",
          "Pakistan",
          "Palau",
          "Panama",
          "Papua New Guinea",
          "Paraguay",
          "Peru",
          "Philippines",
          "Poland",
          "Portugal",
          "Qatar",
          "Romania",
          "Russia",
          "Rwanda",
          "Saint Kitts and Nevis",
          "Saint Lucia",
          "Saint Vincent and the Grenadines",
          "Samoa",
          "San Marino",
          "Sao Tome and Principe",
          "Saudi Arabia",
          "Senegal",
          "Serbia",
          "Seychelles",
          "Sierra Leone",
          "Singapore",
          "Slovakia",
          "Slovenia",
          "Solomon Islands",
          "Somalia",
          "South Africa",
          "South Sudan",
          "Spain",
          "Sri Lanka",
          "Sudan",
          "Summer Olympics 2020",
          "Suriname",
          "Sweden",
          "Switzerland",
          "Syria",
          "Taiwan*",
          "Tajikistan",
          "Tanzania",
          "Thailand",
          "Timor-Leste",
          "Togo",
          "Tonga",
          "Trinidad and Tobago",
          "Tunisia",
          "Turkey",
          "Tuvalu",
          "US",
          "Uganda",
          "Ukraine",
          "United Arab Emirates",
          "United Kingdom",
          "Uruguay",
          "Uzbekistan",
          "Vanuatu",
          "Venezuela",
          "Vietnam",
          "West Bank and Gaza",
          "Winter Olympics 2022",
          "Yemen",
          "Zambia",
          "Zimbabwe"
         ],
         "marker": {
          "color": [
           209451,
           334457,
           271496,
           47890,
           105288,
           11,
           9106,
           10044957,
           447308,
           11399460,
           5961143,
           828825,
           37491,
           710693,
           2037871,
           106798,
           994037,
           4739365,
           70757,
           27999,
           62627,
           1194277,
           401729,
           329758,
           37076053,
           279661,
           1297523,
           22056,
           633950,
           53631,
           63244,
           138719,
           124392,
           4617095,
           15368,
           7679,
           5192286,
           4903524,
           6359093,
           9008,
           25087,
           95749,
           1209725,
           88263,
           1269326,
           1112643,
           650685,
           4618256,
           3451036,
           712,
           15690,
           15760,
           660790,
           1057121,
           515759,
           201785,
           17229,
           10189,
           615433,
           74267,
           500116,
           68898,
           1463644,
           39866718,
           48981,
           12598,
           1827537,
           38249060,
           171229,
           5548487,
           19680,
           1238247,
           38267,
           8960,
           73075,
           34202,
           29,
           472250,
           2196804,
           209137,
           44690738,
           6738225,
           7572311,
           2465545,
           1704502,
           4803824,
           25603510,
           154416,
           33320438,
           1746997,
           1498668,
           342937,
           5014,
           1,
           30615522,
           273312,
           663860,
           206708,
           218023,
           976255,
           1232828,
           34790,
           8090,
           507187,
           21432,
           1307448,
           317367,
           9,
           67889,
           88707,
           5044718,
           185738,
           33062,
           117610,
           15649,
           63668,
           296042,
           7483444,
           23948,
           611140,
           16121,
           1007900,
           288808,
           1272490,
           233214,
           171156,
           5247,
           1001154,
           8712835,
           2236114,
           15655,
           9508,
           266598,
           346852,
           1479506,
           399449,
           1577411,
           5991,
           1031731,
           46825,
           808401,
           4487553,
           4077452,
           6444960,
           5570473,
           495090,
           3346046,
           22075858,
           133194,
           6597,
           30004,
           9589,
           16607,
           23616,
           6281,
           830127,
           88926,
           2500142,
           50665,
           7760,
           2235294,
           2667551,
           1331707,
           24575,
           27324,
           4067067,
           18368,
           13770429,
           672039,
           63829,
           865,
           82467,
           2699339,
           4413911,
           57467,
           9970937,
           17786,
           42906,
           4728182,
           23419,
           39396,
           16810,
           189918,
           1151126,
           17042722,
           2805,
           103802702,
           170544,
           5711929,
           1053213,
           24658705,
           1034303,
           251247,
           12014,
           552162,
           11526994,
           703228,
           535,
           11945,
           343135,
           264276
          ],
          "coloraxis": "coloraxis",
          "size": [
           209451,
           334457,
           271496,
           47890,
           105288,
           11,
           9106,
           10044957,
           447308,
           11399460,
           5961143,
           828825,
           37491,
           710693,
           2037871,
           106798,
           994037,
           4739365,
           70757,
           27999,
           62627,
           1194277,
           401729,
           329758,
           37076053,
           279661,
           1297523,
           22056,
           633950,
           53631,
           63244,
           138719,
           124392,
           4617095,
           15368,
           7679,
           5192286,
           4903524,
           6359093,
           9008,
           25087,
           95749,
           1209725,
           88263,
           1269326,
           1112643,
           650685,
           4618256,
           3451036,
           712,
           15690,
           15760,
           660790,
           1057121,
           515759,
           201785,
           17229,
           10189,
           615433,
           74267,
           500116,
           68898,
           1463644,
           39866718,
           48981,
           12598,
           1827537,
           38249060,
           171229,
           5548487,
           19680,
           1238247,
           38267,
           8960,
           73075,
           34202,
           29,
           472250,
           2196804,
           209137,
           44690738,
           6738225,
           7572311,
           2465545,
           1704502,
           4803824,
           25603510,
           154416,
           33320438,
           1746997,
           1498668,
           342937,
           5014,
           1,
           30615522,
           273312,
           663860,
           206708,
           218023,
           976255,
           1232828,
           34790,
           8090,
           507187,
           21432,
           1307448,
           317367,
           9,
           67889,
           88707,
           5044718,
           185738,
           33062,
           117610,
           15649,
           63668,
           296042,
           7483444,
           23948,
           611140,
           16121,
           1007900,
           288808,
           1272490,
           233214,
           171156,
           5247,
           1001154,
           8712835,
           2236114,
           15655,
           9508,
           266598,
           346852,
           1479506,
           399449,
           1577411,
           5991,
           1031731,
           46825,
           808401,
           4487553,
           4077452,
           6444960,
           5570473,
           495090,
           3346046,
           22075858,
           133194,
           6597,
           30004,
           9589,
           16607,
           23616,
           6281,
           830127,
           88926,
           2500142,
           50665,
           7760,
           2235294,
           2667551,
           1331707,
           24575,
           27324,
           4067067,
           18368,
           13770429,
           672039,
           63829,
           865,
           82467,
           2699339,
           4413911,
           57467,
           9970937,
           17786,
           42906,
           4728182,
           23419,
           39396,
           16810,
           189918,
           1151126,
           17042722,
           2805,
           103802702,
           170544,
           5711929,
           1053213,
           24658705,
           1034303,
           251247,
           12014,
           552162,
           11526994,
           703228,
           535,
           11945,
           343135,
           264276
          ],
          "sizemode": "area",
          "sizeref": 64876.68875,
          "symbol": "circle"
         },
         "mode": "markers",
         "name": "",
         "showlegend": false,
         "type": "scattergeo"
        }
       ],
       "layout": {
        "autosize": true,
        "coloraxis": {
         "colorbar": {
          "title": {
           "text": "Confirmed"
          }
         },
         "colorscale": [
          [
           0,
           "#0d0887"
          ],
          [
           0.1111111111111111,
           "#46039f"
          ],
          [
           0.2222222222222222,
           "#7201a8"
          ],
          [
           0.3333333333333333,
           "#9c179e"
          ],
          [
           0.4444444444444444,
           "#bd3786"
          ],
          [
           0.5555555555555556,
           "#d8576b"
          ],
          [
           0.6666666666666666,
           "#ed7953"
          ],
          [
           0.7777777777777778,
           "#fb9f3a"
          ],
          [
           0.8888888888888888,
           "#fdca26"
          ],
          [
           1,
           "#f0f921"
          ]
         ]
        },
        "geo": {
         "center": {},
         "domain": {
          "x": [
           0,
           1
          ],
          "y": [
           0,
           1
          ]
         },
         "projection": {
          "type": "natural earth"
         }
        },
        "legend": {
         "itemsizing": "constant",
         "tracegroupgap": 0
        },
        "margin": {
         "t": 60
        },
        "template": {
         "data": {
          "bar": [
           {
            "error_x": {
             "color": "#f2f5fa"
            },
            "error_y": {
             "color": "#f2f5fa"
            },
            "marker": {
             "line": {
              "color": "rgb(17,17,17)",
              "width": 0.5
             },
             "pattern": {
              "fillmode": "overlay",
              "size": 10,
              "solidity": 0.2
             }
            },
            "type": "bar"
           }
          ],
          "barpolar": [
           {
            "marker": {
             "line": {
              "color": "rgb(17,17,17)",
              "width": 0.5
             },
             "pattern": {
              "fillmode": "overlay",
              "size": 10,
              "solidity": 0.2
             }
            },
            "type": "barpolar"
           }
          ],
          "carpet": [
           {
            "aaxis": {
             "endlinecolor": "#A2B1C6",
             "gridcolor": "#506784",
             "linecolor": "#506784",
             "minorgridcolor": "#506784",
             "startlinecolor": "#A2B1C6"
            },
            "baxis": {
             "endlinecolor": "#A2B1C6",
             "gridcolor": "#506784",
             "linecolor": "#506784",
             "minorgridcolor": "#506784",
             "startlinecolor": "#A2B1C6"
            },
            "type": "carpet"
           }
          ],
          "choropleth": [
           {
            "colorbar": {
             "outlinewidth": 0,
             "ticks": ""
            },
            "type": "choropleth"
           }
          ],
          "contour": [
           {
            "colorbar": {
             "outlinewidth": 0,
             "ticks": ""
            },
            "colorscale": [
             [
              0,
              "#0d0887"
             ],
             [
              0.1111111111111111,
              "#46039f"
             ],
             [
              0.2222222222222222,
              "#7201a8"
             ],
             [
              0.3333333333333333,
              "#9c179e"
             ],
             [
              0.4444444444444444,
              "#bd3786"
             ],
             [
              0.5555555555555556,
              "#d8576b"
             ],
             [
              0.6666666666666666,
              "#ed7953"
             ],
             [
              0.7777777777777778,
              "#fb9f3a"
             ],
             [
              0.8888888888888888,
              "#fdca26"
             ],
             [
              1,
              "#f0f921"
             ]
            ],
            "type": "contour"
           }
          ],
          "contourcarpet": [
           {
            "colorbar": {
             "outlinewidth": 0,
             "ticks": ""
            },
            "type": "contourcarpet"
           }
          ],
          "heatmap": [
           {
            "colorbar": {
             "outlinewidth": 0,
             "ticks": ""
            },
            "colorscale": [
             [
              0,
              "#0d0887"
             ],
             [
              0.1111111111111111,
              "#46039f"
             ],
             [
              0.2222222222222222,
              "#7201a8"
             ],
             [
              0.3333333333333333,
              "#9c179e"
             ],
             [
              0.4444444444444444,
              "#bd3786"
             ],
             [
              0.5555555555555556,
              "#d8576b"
             ],
             [
              0.6666666666666666,
              "#ed7953"
             ],
             [
              0.7777777777777778,
              "#fb9f3a"
             ],
             [
              0.8888888888888888,
              "#fdca26"
             ],
             [
              1,
              "#f0f921"
             ]
            ],
            "type": "heatmap"
           }
          ],
          "heatmapgl": [
           {
            "colorbar": {
             "outlinewidth": 0,
             "ticks": ""
            },
            "colorscale": [
             [
              0,
              "#0d0887"
             ],
             [
              0.1111111111111111,
              "#46039f"
             ],
             [
              0.2222222222222222,
              "#7201a8"
             ],
             [
              0.3333333333333333,
              "#9c179e"
             ],
             [
              0.4444444444444444,
              "#bd3786"
             ],
             [
              0.5555555555555556,
              "#d8576b"
             ],
             [
              0.6666666666666666,
              "#ed7953"
             ],
             [
              0.7777777777777778,
              "#fb9f3a"
             ],
             [
              0.8888888888888888,
              "#fdca26"
             ],
             [
              1,
              "#f0f921"
             ]
            ],
            "type": "heatmapgl"
           }
          ],
          "histogram": [
           {
            "marker": {
             "pattern": {
              "fillmode": "overlay",
              "size": 10,
              "solidity": 0.2
             }
            },
            "type": "histogram"
           }
          ],
          "histogram2d": [
           {
            "colorbar": {
             "outlinewidth": 0,
             "ticks": ""
            },
            "colorscale": [
             [
              0,
              "#0d0887"
             ],
             [
              0.1111111111111111,
              "#46039f"
             ],
             [
              0.2222222222222222,
              "#7201a8"
             ],
             [
              0.3333333333333333,
              "#9c179e"
             ],
             [
              0.4444444444444444,
              "#bd3786"
             ],
             [
              0.5555555555555556,
              "#d8576b"
             ],
             [
              0.6666666666666666,
              "#ed7953"
             ],
             [
              0.7777777777777778,
              "#fb9f3a"
             ],
             [
              0.8888888888888888,
              "#fdca26"
             ],
             [
              1,
              "#f0f921"
             ]
            ],
            "type": "histogram2d"
           }
          ],
          "histogram2dcontour": [
           {
            "colorbar": {
             "outlinewidth": 0,
             "ticks": ""
            },
            "colorscale": [
             [
              0,
              "#0d0887"
             ],
             [
              0.1111111111111111,
              "#46039f"
             ],
             [
              0.2222222222222222,
              "#7201a8"
             ],
             [
              0.3333333333333333,
              "#9c179e"
             ],
             [
              0.4444444444444444,
              "#bd3786"
             ],
             [
              0.5555555555555556,
              "#d8576b"
             ],
             [
              0.6666666666666666,
              "#ed7953"
             ],
             [
              0.7777777777777778,
              "#fb9f3a"
             ],
             [
              0.8888888888888888,
              "#fdca26"
             ],
             [
              1,
              "#f0f921"
             ]
            ],
            "type": "histogram2dcontour"
           }
          ],
          "mesh3d": [
           {
            "colorbar": {
             "outlinewidth": 0,
             "ticks": ""
            },
            "type": "mesh3d"
           }
          ],
          "parcoords": [
           {
            "line": {
             "colorbar": {
              "outlinewidth": 0,
              "ticks": ""
             }
            },
            "type": "parcoords"
           }
          ],
          "pie": [
           {
            "automargin": true,
            "type": "pie"
           }
          ],
          "scatter": [
           {
            "marker": {
             "line": {
              "color": "#283442"
             }
            },
            "type": "scatter"
           }
          ],
          "scatter3d": [
           {
            "line": {
             "colorbar": {
              "outlinewidth": 0,
              "ticks": ""
             }
            },
            "marker": {
             "colorbar": {
              "outlinewidth": 0,
              "ticks": ""
             }
            },
            "type": "scatter3d"
           }
          ],
          "scattercarpet": [
           {
            "marker": {
             "colorbar": {
              "outlinewidth": 0,
              "ticks": ""
             }
            },
            "type": "scattercarpet"
           }
          ],
          "scattergeo": [
           {
            "marker": {
             "colorbar": {
              "outlinewidth": 0,
              "ticks": ""
             }
            },
            "type": "scattergeo"
           }
          ],
          "scattergl": [
           {
            "marker": {
             "line": {
              "color": "#283442"
             }
            },
            "type": "scattergl"
           }
          ],
          "scattermapbox": [
           {
            "marker": {
             "colorbar": {
              "outlinewidth": 0,
              "ticks": ""
             }
            },
            "type": "scattermapbox"
           }
          ],
          "scatterpolar": [
           {
            "marker": {
             "colorbar": {
              "outlinewidth": 0,
              "ticks": ""
             }
            },
            "type": "scatterpolar"
           }
          ],
          "scatterpolargl": [
           {
            "marker": {
             "colorbar": {
              "outlinewidth": 0,
              "ticks": ""
             }
            },
            "type": "scatterpolargl"
           }
          ],
          "scatterternary": [
           {
            "marker": {
             "colorbar": {
              "outlinewidth": 0,
              "ticks": ""
             }
            },
            "type": "scatterternary"
           }
          ],
          "surface": [
           {
            "colorbar": {
             "outlinewidth": 0,
             "ticks": ""
            },
            "colorscale": [
             [
              0,
              "#0d0887"
             ],
             [
              0.1111111111111111,
              "#46039f"
             ],
             [
              0.2222222222222222,
              "#7201a8"
             ],
             [
              0.3333333333333333,
              "#9c179e"
             ],
             [
              0.4444444444444444,
              "#bd3786"
             ],
             [
              0.5555555555555556,
              "#d8576b"
             ],
             [
              0.6666666666666666,
              "#ed7953"
             ],
             [
              0.7777777777777778,
              "#fb9f3a"
             ],
             [
              0.8888888888888888,
              "#fdca26"
             ],
             [
              1,
              "#f0f921"
             ]
            ],
            "type": "surface"
           }
          ],
          "table": [
           {
            "cells": {
             "fill": {
              "color": "#506784"
             },
             "line": {
              "color": "rgb(17,17,17)"
             }
            },
            "header": {
             "fill": {
              "color": "#2a3f5f"
             },
             "line": {
              "color": "rgb(17,17,17)"
             }
            },
            "type": "table"
           }
          ]
         },
         "layout": {
          "annotationdefaults": {
           "arrowcolor": "#f2f5fa",
           "arrowhead": 0,
           "arrowwidth": 1
          },
          "autotypenumbers": "strict",
          "coloraxis": {
           "colorbar": {
            "outlinewidth": 0,
            "ticks": ""
           }
          },
          "colorscale": {
           "diverging": [
            [
             0,
             "#8e0152"
            ],
            [
             0.1,
             "#c51b7d"
            ],
            [
             0.2,
             "#de77ae"
            ],
            [
             0.3,
             "#f1b6da"
            ],
            [
             0.4,
             "#fde0ef"
            ],
            [
             0.5,
             "#f7f7f7"
            ],
            [
             0.6,
             "#e6f5d0"
            ],
            [
             0.7,
             "#b8e186"
            ],
            [
             0.8,
             "#7fbc41"
            ],
            [
             0.9,
             "#4d9221"
            ],
            [
             1,
             "#276419"
            ]
           ],
           "sequential": [
            [
             0,
             "#0d0887"
            ],
            [
             0.1111111111111111,
             "#46039f"
            ],
            [
             0.2222222222222222,
             "#7201a8"
            ],
            [
             0.3333333333333333,
             "#9c179e"
            ],
            [
             0.4444444444444444,
             "#bd3786"
            ],
            [
             0.5555555555555556,
             "#d8576b"
            ],
            [
             0.6666666666666666,
             "#ed7953"
            ],
            [
             0.7777777777777778,
             "#fb9f3a"
            ],
            [
             0.8888888888888888,
             "#fdca26"
            ],
            [
             1,
             "#f0f921"
            ]
           ],
           "sequentialminus": [
            [
             0,
             "#0d0887"
            ],
            [
             0.1111111111111111,
             "#46039f"
            ],
            [
             0.2222222222222222,
             "#7201a8"
            ],
            [
             0.3333333333333333,
             "#9c179e"
            ],
            [
             0.4444444444444444,
             "#bd3786"
            ],
            [
             0.5555555555555556,
             "#d8576b"
            ],
            [
             0.6666666666666666,
             "#ed7953"
            ],
            [
             0.7777777777777778,
             "#fb9f3a"
            ],
            [
             0.8888888888888888,
             "#fdca26"
            ],
            [
             1,
             "#f0f921"
            ]
           ]
          },
          "colorway": [
           "#636efa",
           "#EF553B",
           "#00cc96",
           "#ab63fa",
           "#FFA15A",
           "#19d3f3",
           "#FF6692",
           "#B6E880",
           "#FF97FF",
           "#FECB52"
          ],
          "font": {
           "color": "#f2f5fa"
          },
          "geo": {
           "bgcolor": "rgb(17,17,17)",
           "lakecolor": "rgb(17,17,17)",
           "landcolor": "rgb(17,17,17)",
           "showlakes": true,
           "showland": true,
           "subunitcolor": "#506784"
          },
          "hoverlabel": {
           "align": "left"
          },
          "hovermode": "closest",
          "mapbox": {
           "style": "dark"
          },
          "paper_bgcolor": "rgb(17,17,17)",
          "plot_bgcolor": "rgb(17,17,17)",
          "polar": {
           "angularaxis": {
            "gridcolor": "#506784",
            "linecolor": "#506784",
            "ticks": ""
           },
           "bgcolor": "rgb(17,17,17)",
           "radialaxis": {
            "gridcolor": "#506784",
            "linecolor": "#506784",
            "ticks": ""
           }
          },
          "scene": {
           "xaxis": {
            "backgroundcolor": "rgb(17,17,17)",
            "gridcolor": "#506784",
            "gridwidth": 2,
            "linecolor": "#506784",
            "showbackground": true,
            "ticks": "",
            "zerolinecolor": "#C8D4E3"
           },
           "yaxis": {
            "backgroundcolor": "rgb(17,17,17)",
            "gridcolor": "#506784",
            "gridwidth": 2,
            "linecolor": "#506784",
            "showbackground": true,
            "ticks": "",
            "zerolinecolor": "#C8D4E3"
           },
           "zaxis": {
            "backgroundcolor": "rgb(17,17,17)",
            "gridcolor": "#506784",
            "gridwidth": 2,
            "linecolor": "#506784",
            "showbackground": true,
            "ticks": "",
            "zerolinecolor": "#C8D4E3"
           }
          },
          "shapedefaults": {
           "line": {
            "color": "#f2f5fa"
           }
          },
          "sliderdefaults": {
           "bgcolor": "#C8D4E3",
           "bordercolor": "rgb(17,17,17)",
           "borderwidth": 1,
           "tickwidth": 0
          },
          "ternary": {
           "aaxis": {
            "gridcolor": "#506784",
            "linecolor": "#506784",
            "ticks": ""
           },
           "baxis": {
            "gridcolor": "#506784",
            "linecolor": "#506784",
            "ticks": ""
           },
           "bgcolor": "rgb(17,17,17)",
           "caxis": {
            "gridcolor": "#506784",
            "linecolor": "#506784",
            "ticks": ""
           }
          },
          "title": {
           "x": 0.05
          },
          "updatemenudefaults": {
           "bgcolor": "#506784",
           "borderwidth": 0
          },
          "xaxis": {
           "automargin": true,
           "gridcolor": "#283442",
           "linecolor": "#506784",
           "ticks": "",
           "title": {
            "standoff": 15
           },
           "zerolinecolor": "#283442",
           "zerolinewidth": 2
          },
          "yaxis": {
           "automargin": true,
           "gridcolor": "#283442",
           "linecolor": "#506784",
           "ticks": "",
           "title": {
            "standoff": 15
           },
           "zerolinecolor": "#283442",
           "zerolinewidth": 2
          }
         }
        }
       }
      },
      "image/png": "[encoded data removed]",
      "text/html": [
       "<div>                            <div id=\"18b529f9-d216-4c45-aa26-b5555d38a555\" class=\"plotly-graph-div\" style=\"height:525px; width:100%;\"></div>            <script type=\"text/javascript\">                require([\"plotly\"], function(Plotly) {                    window.PLOTLYENV=window.PLOTLYENV || {};                                    if (document.getElementById(\"18b529f9-d216-4c45-aa26-b5555d38a555\")) {                    Plotly.newPlot(                        \"18b529f9-d216-4c45-aa26-b5555d38a555\",                        [{\"customdata\":[[209451,7896,0.0,\"Afghanistan\"],[334457,3598,0.0,\"Albania\"],[271496,6881,0.0,\"Algeria\"],[47890,165,0.0,\"Andorra\"],[105288,1933,0.0,\"Angola\"],[11,0,0.0,\"Antarctica\"],[9106,146,0.0,\"Antigua and Barbuda\"],[10044957,130472,0.0,\"Argentina\"],[447308,8727,0.0,\"Armenia\"],[11399460,19574,0.0,\"Australia\"],[5961143,21970,0.0,\"Austria\"],[828825,10138,0.0,\"Azerbaijan\"],[37491,833,0.0,\"Bahamas\"],[710693,1553,0.0,\"Bahrain\"],[2037871,29445,0.0,\"Bangladesh\"],[106798,579,0.0,\"Barbados\"],[994037,7118,0.0,\"Belarus\"],[4739365,33814,0.0,\"Belgium\"],[70757,688,0.0,\"Belize\"],[27999,163,0.0,\"Benin\"],[62627,21,0.0,\"Bhutan\"],[1194277,22365,0.0,\"Bolivia\"],[401729,16280,0.0,\"Bosnia and Herzegovina\"],[329758,2801,0.0,\"Botswana\"],[37076053,699276,0.0,\"Brazil\"],[279661,225,0.0,\"Brunei\"],[1297523,38228,0.0,\"Bulgaria\"],[22056,396,0.0,\"Burkina Faso\"],[633950,19490,0.0,\"Burma\"],[53631,38,0.0,\"Burundi\"],[63244,413,0.0,\"Cabo Verde\"],[138719,3056,0.0,\"Cambodia\"],[124392,1965,0.0,\"Cameroon\"],[4617095,51720,0.0,\"Canada\"],[15368,113,0.0,\"Central African Republic\"],[7679,194,0.0,\"Chad\"],[5192286,64273,0.0,\"Chile\"],[4903524,101056,0.0,\"China\"],[6359093,142339,0.0,\"Colombia\"],[9008,161,0.0,\"Comoros\"],[25087,388,0.0,\"Congo (Brazzaville)\"],[95749,1464,0.0,\"Congo (Kinshasa)\"],[1209725,9245,0.0,\"Costa Rica\"],[88263,834,0.0,\"Cote d'Ivoire\"],[1269326,17987,0.0,\"Croatia\"],[1112643,8530,0.0,\"Cuba\"],[650685,1330,0.0,\"Cyprus\"],[4618256,42491,0.0,\"Czechia\"],[3451036,8345,0.0,\"Denmark\"],[712,13,0.0,\"Diamond Princess\"],[15690,189,0.0,\"Djibouti\"],[15760,74,0.0,\"Dominica\"],[660790,4384,0.0,\"Dominican Republic\"],[1057121,36014,0.0,\"Ecuador\"],[515759,24812,0.0,\"Egypt\"],[201785,4230,0.0,\"El Salvador\"],[17229,183,0.0,\"Equatorial Guinea\"],[10189,103,0.0,\"Eritrea\"],[615433,2946,0.0,\"Estonia\"],[74267,1425,0.0,\"Eswatini\"],[500116,7572,0.0,\"Ethiopia\"],[68898,883,0.0,\"Fiji\"],[1463644,8967,0.0,\"Finland\"],[39866718,166176,0.0,\"France\"],[48981,306,0.0,\"Gabon\"],[12598,372,0.0,\"Gambia\"],[1827537,16971,0.0,\"Georgia\"],[38249060,168935,0.0,\"Germany\"],[171229,1462,0.0,\"Ghana\"],[5548487,34779,0.0,\"Greece\"],[19680,238,0.0,\"Grenada\"],[1238247,20182,0.0,\"Guatemala\"],[38267,467,0.0,\"Guinea\"],[8960,176,0.0,\"Guinea-Bissau\"],[73075,1298,0.0,\"Guyana\"],[34202,860,0.0,\"Haiti\"],[29,0,0.0,\"Holy See\"],[472250,11111,0.0,\"Honduras\"],[2196804,48762,0.0,\"Hungary\"],[209137,263,0.0,\"Iceland\"],[44690738,530779,0.0,\"India\"],[6738225,160941,0.0,\"Indonesia\"],[7572311,144933,0.0,\"Iran\"],[2465545,25375,0.0,\"Iraq\"],[1704502,8708,0.0,\"Ireland\"],[4803824,12329,0.0,\"Israel\"],[25603510,188322,0.0,\"Italy\"],[154416,3514,0.0,\"Jamaica\"],[33320438,72997,0.0,\"Japan\"],[1746997,14122,0.0,\"Jordan\"],[1498668,19071,0.0,\"Kazakhstan\"],[342937,5688,0.0,\"Kenya\"],[5014,18,0.0,\"Kiribati\"],[1,6,0.0,\"Korea, North\"],[30615522,34093,0.0,\"Korea, South\"],[273312,3211,0.0,\"Kosovo\"],[663860,2570,0.0,\"Kuwait\"],[206708,2991,0.0,\"Kyrgyzstan\"],[218023,758,0.0,\"Laos\"],[976255,6269,0.0,\"Latvia\"],[1232828,10841,0.0,\"Lebanon\"],[34790,723,0.0,\"Lesotho\"],[8090,295,0.0,\"Liberia\"],[507187,6437,0.0,\"Libya\"],[21432,89,0.0,\"Liechtenstein\"],[1307448,9596,0.0,\"Lithuania\"],[317367,1220,0.0,\"Luxembourg\"],[9,2,0.0,\"MS Zaandam\"],[67889,1423,0.0,\"Madagascar\"],[88707,2686,0.0,\"Malawi\"],[5044718,36967,0.0,\"Malaysia\"],[185738,311,0.0,\"Maldives\"],[33062,743,0.0,\"Mali\"],[117610,828,0.0,\"Malta\"],[15649,17,0.0,\"Marshall Islands\"],[63668,997,0.0,\"Mauritania\"],[296042,1044,0.0,\"Mauritius\"],[7483444,333188,0.0,\"Mexico\"],[23948,61,0.0,\"Micronesia\"],[611140,12003,0.0,\"Moldova\"],[16121,67,0.0,\"Monaco\"],[1007900,2136,0.0,\"Mongolia\"],[288808,2808,0.0,\"Montenegro\"],[1272490,16296,0.0,\"Morocco\"],[233214,2242,0.0,\"Mozambique\"],[171156,4090,0.0,\"Namibia\"],[5247,1,0.0,\"Nauru\"],[1001154,12020,0.0,\"Nepal\"],[8712835,23707,0.0,\"Netherlands\"],[2236114,2550,0.0,\"New Zealand\"],[15655,245,0.0,\"Nicaragua\"],[9508,315,0.0,\"Niger\"],[266598,3155,0.0,\"Nigeria\"],[346852,9662,0.0,\"North Macedonia\"],[1479506,5213,0.0,\"Norway\"],[399449,4628,0.0,\"Oman\"],[1577411,30644,0.0,\"Pakistan\"],[5991,9,0.0,\"Palau\"],[1031731,8609,0.0,\"Panama\"],[46825,670,0.0,\"Papua New Guinea\"],[808401,19878,0.0,\"Paraguay\"],[4487553,219539,0.0,\"Peru\"],[4077452,66188,0.0,\"Philippines\"],[6444960,119010,0.0,\"Poland\"],[5570473,26266,0.0,\"Portugal\"],[495090,688,0.0,\"Qatar\"],[3346046,67736,0.0,\"Romania\"],[22075858,388478,0.0,\"Russia\"],[133194,1468,0.0,\"Rwanda\"],[6597,47,0.0,\"Saint Kitts and Nevis\"],[30004,409,0.0,\"Saint Lucia\"],[9589,123,0.0,\"Saint Vincent and the Grenadines\"],[16607,29,0.0,\"Samoa\"],[23616,122,0.0,\"San Marino\"],[6281,77,0.0,\"Sao Tome and Principe\"],[830127,9618,0.0,\"Saudi Arabia\"],[88926,1971,0.0,\"Senegal\"],[2500142,17881,0.0,\"Serbia\"],[50665,172,0.0,\"Seychelles\"],[7760,126,0.0,\"Sierra Leone\"],[2235294,1722,0.0,\"Singapore\"],[2667551,21035,0.0,\"Slovakia\"],[1331707,7078,0.0,\"Slovenia\"],[24575,153,0.0,\"Solomon Islands\"],[27324,1361,0.0,\"Somalia\"],[4067067,102595,0.0,\"South Africa\"],[18368,138,0.0,\"South Sudan\"],[13770429,119479,0.0,\"Spain\"],[672039,16830,0.0,\"Sri Lanka\"],[63829,5017,0.0,\"Sudan\"],[865,0,0.0,\"Summer Olympics 2020\"],[82467,1404,0.0,\"Suriname\"],[2699339,23777,0.0,\"Sweden\"],[4413911,14210,0.0,\"Switzerland\"],[57467,3164,0.0,\"Syria\"],[9970937,17672,0.0,\"Taiwan*\"],[17786,125,0.0,\"Tajikistan\"],[42906,846,0.0,\"Tanzania\"],[4728182,33918,0.0,\"Thailand\"],[23419,138,0.0,\"Timor-Leste\"],[39396,290,0.0,\"Togo\"],[16810,13,0.0,\"Tonga\"],[189918,4355,0.0,\"Trinidad and Tobago\"],[1151126,29341,0.0,\"Tunisia\"],[17042722,101492,0.0,\"Turkey\"],[2805,0,0.0,\"Tuvalu\"],[103802702,1123836,0.0,\"US\"],[170544,3630,0.0,\"Uganda\"],[5711929,119283,0.0,\"Ukraine\"],[1053213,2349,0.0,\"United Arab Emirates\"],[24658705,220721,0.0,\"United Kingdom\"],[1034303,7617,0.0,\"Uruguay\"],[251247,1637,0.0,\"Uzbekistan\"],[12014,14,0.0,\"Vanuatu\"],[552162,5854,0.0,\"Venezuela\"],[11526994,43186,0.0,\"Vietnam\"],[703228,5708,0.0,\"West Bank and Gaza\"],[535,0,0.0,\"Winter Olympics 2022\"],[11945,2159,0.0,\"Yemen\"],[343135,4057,0.0,\"Zambia\"],[264276,5671,0.0,\"Zimbabwe\"]],\"geo\":\"geo\",\"hovertemplate\":\"\\u003cb\\u003e%{hovertext}\\u003c\\u002fb\\u003e\\u003cbr\\u003e\\u003cbr\\u003eConfirmed=%{marker.color:.2f}\\u003cbr\\u003eDeaths=%{customdata[1]:.2f}\\u003cbr\\u003eRecovered=%{customdata[2]:.2f}\\u003cextra\\u003e\\u003c\\u002fextra\\u003e\",\"hovertext\":[\"Afghanistan\",\"Albania\",\"Algeria\",\"Andorra\",\"Angola\",\"Antarctica\",\"Antigua and Barbuda\",\"Argentina\",\"Armenia\",\"Australia\",\"Austria\",\"Azerbaijan\",\"Bahamas\",\"Bahrain\",\"Bangladesh\",\"Barbados\",\"Belarus\",\"Belgium\",\"Belize\",\"Benin\",\"Bhutan\",\"Bolivia\",\"Bosnia and Herzegovina\",\"Botswana\",\"Brazil\",\"Brunei\",\"Bulgaria\",\"Burkina Faso\",\"Burma\",\"Burundi\",\"Cabo Verde\",\"Cambodia\",\"Cameroon\",\"Canada\",\"Central African Republic\",\"Chad\",\"Chile\",\"China\",\"Colombia\",\"Comoros\",\"Congo (Brazzaville)\",\"Congo (Kinshasa)\",\"Costa Rica\",\"Cote d'Ivoire\",\"Croatia\",\"Cuba\",\"Cyprus\",\"Czechia\",\"Denmark\",\"Diamond Princess\",\"Djibouti\",\"Dominica\",\"Dominican Republic\",\"Ecuador\",\"Egypt\",\"El Salvador\",\"Equatorial Guinea\",\"Eritrea\",\"Estonia\",\"Eswatini\",\"Ethiopia\",\"Fiji\",\"Finland\",\"France\",\"Gabon\",\"Gambia\",\"Georgia\",\"Germany\",\"Ghana\",\"Greece\",\"Grenada\",\"Guatemala\",\"Guinea\",\"Guinea-Bissau\",\"Guyana\",\"Haiti\",\"Holy See\",\"Honduras\",\"Hungary\",\"Iceland\",\"India\",\"Indonesia\",\"Iran\",\"Iraq\",\"Ireland\",\"Israel\",\"Italy\",\"Jamaica\",\"Japan\",\"Jordan\",\"Kazakhstan\",\"Kenya\",\"Kiribati\",\"Korea, North\",\"Korea, South\",\"Kosovo\",\"Kuwait\",\"Kyrgyzstan\",\"Laos\",\"Latvia\",\"Lebanon\",\"Lesotho\",\"Liberia\",\"Libya\",\"Liechtenstein\",\"Lithuania\",\"Luxembourg\",\"MS Zaandam\",\"Madagascar\",\"Malawi\",\"Malaysia\",\"Maldives\",\"Mali\",\"Malta\",\"Marshall Islands\",\"Mauritania\",\"Mauritius\",\"Mexico\",\"Micronesia\",\"Moldova\",\"Monaco\",\"Mongolia\",\"Montenegro\",\"Morocco\",\"Mozambique\",\"Namibia\",\"Nauru\",\"Nepal\",\"Netherlands\",\"New Zealand\",\"Nicaragua\",\"Niger\",\"Nigeria\",\"North Macedonia\",\"Norway\",\"Oman\",\"Pakistan\",\"Palau\",\"Panama\",\"Papua New Guinea\",\"Paraguay\",\"Peru\",\"Philippines\",\"Poland\",\"Portugal\",\"Qatar\",\"Romania\",\"Russia\",\"Rwanda\",\"Saint Kitts and Nevis\",\"Saint Lucia\",\"Saint Vincent and the Grenadines\",\"Samoa\",\"San Marino\",\"Sao Tome and Principe\",\"Saudi Arabia\",\"Senegal\",\"Serbia\",\"Seychelles\",\"Sierra Leone\",\"Singapore\",\"Slovakia\",\"Slovenia\",\"Solomon Islands\",\"Somalia\",\"South Africa\",\"South Sudan\",\"Spain\",\"Sri Lanka\",\"Sudan\",\"Summer Olympics 2020\",\"Suriname\",\"Sweden\",\"Switzerland\",\"Syria\",\"Taiwan*\",\"Tajikistan\",\"Tanzania\",\"Thailand\",\"Timor-Leste\",\"Togo\",\"Tonga\",\"Trinidad and Tobago\",\"Tunisia\",\"Turkey\",\"Tuvalu\",\"US\",\"Uganda\",\"Ukraine\",\"United Arab Emirates\",\"United Kingdom\",\"Uruguay\",\"Uzbekistan\",\"Vanuatu\",\"Venezuela\",\"Vietnam\",\"West Bank and Gaza\",\"Winter Olympics 2022\",\"Yemen\",\"Zambia\",\"Zimbabwe\"],\"legendgroup\":\"\",\"locationmode\":\"country names\",\"locations\":[\"Afghanistan\",\"Albania\",\"Algeria\",\"Andorra\",\"Angola\",\"Antarctica\",\"Antigua and Barbuda\",\"Argentina\",\"Armenia\",\"Australia\",\"Austria\",\"Azerbaijan\",\"Bahamas\",\"Bahrain\",\"Bangladesh\",\"Barbados\",\"Belarus\",\"Belgium\",\"Belize\",\"Benin\",\"Bhutan\",\"Bolivia\",\"Bosnia and Herzegovina\",\"Botswana\",\"Brazil\",\"Brunei\",\"Bulgaria\",\"Burkina Faso\",\"Burma\",\"Burundi\",\"Cabo Verde\",\"Cambodia\",\"Cameroon\",\"Canada\",\"Central African Republic\",\"Chad\",\"Chile\",\"China\",\"Colombia\",\"Comoros\",\"Congo (Brazzaville)\",\"Congo (Kinshasa)\",\"Costa Rica\",\"Cote d'Ivoire\",\"Croatia\",\"Cuba\",\"Cyprus\",\"Czechia\",\"Denmark\",\"Diamond Princess\",\"Djibouti\",\"Dominica\",\"Dominican Republic\",\"Ecuador\",\"Egypt\",\"El Salvador\",\"Equatorial Guinea\",\"Eritrea\",\"Estonia\",\"Eswatini\",\"Ethiopia\",\"Fiji\",\"Finland\",\"France\",\"Gabon\",\"Gambia\",\"Georgia\",\"Germany\",\"Ghana\",\"Greece\",\"Grenada\",\"Guatemala\",\"Guinea\",\"Guinea-Bissau\",\"Guyana\",\"Haiti\",\"Holy See\",\"Honduras\",\"Hungary\",\"Iceland\",\"India\",\"Indonesia\",\"Iran\",\"Iraq\",\"Ireland\",\"Israel\",\"Italy\",\"Jamaica\",\"Japan\",\"Jordan\",\"Kazakhstan\",\"Kenya\",\"Kiribati\",\"Korea, North\",\"Korea, South\",\"Kosovo\",\"Kuwait\",\"Kyrgyzstan\",\"Laos\",\"Latvia\",\"Lebanon\",\"Lesotho\",\"Liberia\",\"Libya\",\"Liechtenstein\",\"Lithuania\",\"Luxembourg\",\"MS Zaandam\",\"Madagascar\",\"Malawi\",\"Malaysia\",\"Maldives\",\"Mali\",\"Malta\",\"Marshall Islands\",\"Mauritania\",\"Mauritius\",\"Mexico\",\"Micronesia\",\"Moldova\",\"Monaco\",\"Mongolia\",\"Montenegro\",\"Morocco\",\"Mozambique\",\"Namibia\",\"Nauru\",\"Nepal\",\"Netherlands\",\"New Zealand\",\"Nicaragua\",\"Niger\",\"Nigeria\",\"North Macedonia\",\"Norway\",\"Oman\",\"Pakistan\",\"Palau\",\"Panama\",\"Papua New Guinea\",\"Paraguay\",\"Peru\",\"Philippines\",\"Poland\",\"Portugal\",\"Qatar\",\"Romania\",\"Russia\",\"Rwanda\",\"Saint Kitts and Nevis\",\"Saint Lucia\",\"Saint Vincent and the Grenadines\",\"Samoa\",\"San Marino\",\"Sao Tome and Principe\",\"Saudi Arabia\",\"Senegal\",\"Serbia\",\"Seychelles\",\"Sierra Leone\",\"Singapore\",\"Slovakia\",\"Slovenia\",\"Solomon Islands\",\"Somalia\",\"South Africa\",\"South Sudan\",\"Spain\",\"Sri Lanka\",\"Sudan\",\"Summer Olympics 2020\",\"Suriname\",\"Sweden\",\"Switzerland\",\"Syria\",\"Taiwan*\",\"Tajikistan\",\"Tanzania\",\"Thailand\",\"Timor-Leste\",\"Togo\",\"Tonga\",\"Trinidad and Tobago\",\"Tunisia\",\"Turkey\",\"Tuvalu\",\"US\",\"Uganda\",\"Ukraine\",\"United Arab Emirates\",\"United Kingdom\",\"Uruguay\",\"Uzbekistan\",\"Vanuatu\",\"Venezuela\",\"Vietnam\",\"West Bank and Gaza\",\"Winter Olympics 2022\",\"Yemen\",\"Zambia\",\"Zimbabwe\"],\"marker\":{\"color\":[209451,334457,271496,47890,105288,11,9106,10044957,447308,11399460,5961143,828825,37491,710693,2037871,106798,994037,4739365,70757,27999,62627,1194277,401729,329758,37076053,279661,1297523,22056,633950,53631,63244,138719,124392,4617095,15368,7679,5192286,4903524,6359093,9008,25087,95749,1209725,88263,1269326,1112643,650685,4618256,3451036,712,15690,15760,660790,1057121,515759,201785,17229,10189,615433,74267,500116,68898,1463644,39866718,48981,12598,1827537,38249060,171229,5548487,19680,1238247,38267,8960,73075,34202,29,472250,2196804,209137,44690738,6738225,7572311,2465545,1704502,4803824,25603510,154416,33320438,1746997,1498668,342937,5014,1,30615522,273312,663860,206708,218023,976255,1232828,34790,8090,507187,21432,1307448,317367,9,67889,88707,5044718,185738,33062,117610,15649,63668,296042,7483444,23948,611140,16121,1007900,288808,1272490,233214,171156,5247,1001154,8712835,2236114,15655,9508,266598,346852,1479506,399449,1577411,5991,1031731,46825,808401,4487553,4077452,6444960,5570473,495090,3346046,22075858,133194,6597,30004,9589,16607,23616,6281,830127,88926,2500142,50665,7760,2235294,2667551,1331707,24575,27324,4067067,18368,13770429,672039,63829,865,82467,2699339,4413911,57467,9970937,17786,42906,4728182,23419,39396,16810,189918,1151126,17042722,2805,103802702,170544,5711929,1053213,24658705,1034303,251247,12014,552162,11526994,703228,535,11945,343135,264276],\"coloraxis\":\"coloraxis\",\"size\":[209451,334457,271496,47890,105288,11,9106,10044957,447308,11399460,5961143,828825,37491,710693,2037871,106798,994037,4739365,70757,27999,62627,1194277,401729,329758,37076053,279661,1297523,22056,633950,53631,63244,138719,124392,4617095,15368,7679,5192286,4903524,6359093,9008,25087,95749,1209725,88263,1269326,1112643,650685,4618256,3451036,712,15690,15760,660790,1057121,515759,201785,17229,10189,615433,74267,500116,68898,1463644,39866718,48981,12598,1827537,38249060,171229,5548487,19680,1238247,38267,8960,73075,34202,29,472250,2196804,209137,44690738,6738225,7572311,2465545,1704502,4803824,25603510,154416,33320438,1746997,1498668,342937,5014,1,30615522,273312,663860,206708,218023,976255,1232828,34790,8090,507187,21432,1307448,317367,9,67889,88707,5044718,185738,33062,117610,15649,63668,296042,7483444,23948,611140,16121,1007900,288808,1272490,233214,171156,5247,1001154,8712835,2236114,15655,9508,266598,346852,1479506,399449,1577411,5991,1031731,46825,808401,4487553,4077452,6444960,5570473,495090,3346046,22075858,133194,6597,30004,9589,16607,23616,6281,830127,88926,2500142,50665,7760,2235294,2667551,1331707,24575,27324,4067067,18368,13770429,672039,63829,865,82467,2699339,4413911,57467,9970937,17786,42906,4728182,23419,39396,16810,189918,1151126,17042722,2805,103802702,170544,5711929,1053213,24658705,1034303,251247,12014,552162,11526994,703228,535,11945,343135,264276],\"sizemode\":\"area\",\"sizeref\":64876.68875,\"symbol\":\"circle\"},\"mode\":\"markers\",\"name\":\"\",\"showlegend\":false,\"type\":\"scattergeo\"}],                        {\"template\":{\"data\":{\"barpolar\":[{\"marker\":{\"line\":{\"color\":\"rgb(17,17,17)\",\"width\":0.5},\"pattern\":{\"fillmode\":\"overlay\",\"size\":10,\"solidity\":0.2}},\"type\":\"barpolar\"}],\"bar\":[{\"error_x\":{\"color\":\"#f2f5fa\"},\"error_y\":{\"color\":\"#f2f5fa\"},\"marker\":{\"line\":{\"color\":\"rgb(17,17,17)\",\"width\":0.5},\"pattern\":{\"fillmode\":\"overlay\",\"size\":10,\"solidity\":0.2}},\"type\":\"bar\"}],\"carpet\":[{\"aaxis\":{\"endlinecolor\":\"#A2B1C6\",\"gridcolor\":\"#506784\",\"linecolor\":\"#506784\",\"minorgridcolor\":\"#506784\",\"startlinecolor\":\"#A2B1C6\"},\"baxis\":{\"endlinecolor\":\"#A2B1C6\",\"gridcolor\":\"#506784\",\"linecolor\":\"#506784\",\"minorgridcolor\":\"#506784\",\"startlinecolor\":\"#A2B1C6\"},\"type\":\"carpet\"}],\"choropleth\":[{\"colorbar\":{\"outlinewidth\":0,\"ticks\":\"\"},\"type\":\"choropleth\"}],\"contourcarpet\":[{\"colorbar\":{\"outlinewidth\":0,\"ticks\":\"\"},\"type\":\"contourcarpet\"}],\"contour\":[{\"colorbar\":{\"outlinewidth\":0,\"ticks\":\"\"},\"colorscale\":[[0.0,\"#0d0887\"],[0.1111111111111111,\"#46039f\"],[0.2222222222222222,\"#7201a8\"],[0.3333333333333333,\"#9c179e\"],[0.4444444444444444,\"#bd3786\"],[0.5555555555555556,\"#d8576b\"],[0.6666666666666666,\"#ed7953\"],[0.7777777777777778,\"#fb9f3a\"],[0.8888888888888888,\"#fdca26\"],[1.0,\"#f0f921\"]],\"type\":\"contour\"}],\"heatmapgl\":[{\"colorbar\":{\"outlinewidth\":0,\"ticks\":\"\"},\"colorscale\":[[0.0,\"#0d0887\"],[0.1111111111111111,\"#46039f\"],[0.2222222222222222,\"#7201a8\"],[0.3333333333333333,\"#9c179e\"],[0.4444444444444444,\"#bd3786\"],[0.5555555555555556,\"#d8576b\"],[0.6666666666666666,\"#ed7953\"],[0.7777777777777778,\"#fb9f3a\"],[0.8888888888888888,\"#fdca26\"],[1.0,\"#f0f921\"]],\"type\":\"heatmapgl\"}],\"heatmap\":[{\"colorbar\":{\"outlinewidth\":0,\"ticks\":\"\"},\"colorscale\":[[0.0,\"#0d0887\"],[0.1111111111111111,\"#46039f\"],[0.2222222222222222,\"#7201a8\"],[0.3333333333333333,\"#9c179e\"],[0.4444444444444444,\"#bd3786\"],[0.5555555555555556,\"#d8576b\"],[0.6666666666666666,\"#ed7953\"],[0.7777777777777778,\"#fb9f3a\"],[0.8888888888888888,\"#fdca26\"],[1.0,\"#f0f921\"]],\"type\":\"heatmap\"}],\"histogram2dcontour\":[{\"colorbar\":{\"outlinewidth\":0,\"ticks\":\"\"},\"colorscale\":[[0.0,\"#0d0887\"],[0.1111111111111111,\"#46039f\"],[0.2222222222222222,\"#7201a8\"],[0.3333333333333333,\"#9c179e\"],[0.4444444444444444,\"#bd3786\"],[0.5555555555555556,\"#d8576b\"],[0.6666666666666666,\"#ed7953\"],[0.7777777777777778,\"#fb9f3a\"],[0.8888888888888888,\"#fdca26\"],[1.0,\"#f0f921\"]],\"type\":\"histogram2dcontour\"}],\"histogram2d\":[{\"colorbar\":{\"outlinewidth\":0,\"ticks\":\"\"},\"colorscale\":[[0.0,\"#0d0887\"],[0.1111111111111111,\"#46039f\"],[0.2222222222222222,\"#7201a8\"],[0.3333333333333333,\"#9c179e\"],[0.4444444444444444,\"#bd3786\"],[0.5555555555555556,\"#d8576b\"],[0.6666666666666666,\"#ed7953\"],[0.7777777777777778,\"#fb9f3a\"],[0.8888888888888888,\"#fdca26\"],[1.0,\"#f0f921\"]],\"type\":\"histogram2d\"}],\"histogram\":[{\"marker\":{\"pattern\":{\"fillmode\":\"overlay\",\"size\":10,\"solidity\":0.2}},\"type\":\"histogram\"}],\"mesh3d\":[{\"colorbar\":{\"outlinewidth\":0,\"ticks\":\"\"},\"type\":\"mesh3d\"}],\"parcoords\":[{\"line\":{\"colorbar\":{\"outlinewidth\":0,\"ticks\":\"\"}},\"type\":\"parcoords\"}],\"pie\":[{\"automargin\":true,\"type\":\"pie\"}],\"scatter3d\":[{\"line\":{\"colorbar\":{\"outlinewidth\":0,\"ticks\":\"\"}},\"marker\":{\"colorbar\":{\"outlinewidth\":0,\"ticks\":\"\"}},\"type\":\"scatter3d\"}],\"scattercarpet\":[{\"marker\":{\"colorbar\":{\"outlinewidth\":0,\"ticks\":\"\"}},\"type\":\"scattercarpet\"}],\"scattergeo\":[{\"marker\":{\"colorbar\":{\"outlinewidth\":0,\"ticks\":\"\"}},\"type\":\"scattergeo\"}],\"scattergl\":[{\"marker\":{\"line\":{\"color\":\"#283442\"}},\"type\":\"scattergl\"}],\"scattermapbox\":[{\"marker\":{\"colorbar\":{\"outlinewidth\":0,\"ticks\":\"\"}},\"type\":\"scattermapbox\"}],\"scatterpolargl\":[{\"marker\":{\"colorbar\":{\"outlinewidth\":0,\"ticks\":\"\"}},\"type\":\"scatterpolargl\"}],\"scatterpolar\":[{\"marker\":{\"colorbar\":{\"outlinewidth\":0,\"ticks\":\"\"}},\"type\":\"scatterpolar\"}],\"scatter\":[{\"marker\":{\"line\":{\"color\":\"#283442\"}},\"type\":\"scatter\"}],\"scatterternary\":[{\"marker\":{\"colorbar\":{\"outlinewidth\":0,\"ticks\":\"\"}},\"type\":\"scatterternary\"}],\"surface\":[{\"colorbar\":{\"outlinewidth\":0,\"ticks\":\"\"},\"colorscale\":[[0.0,\"#0d0887\"],[0.1111111111111111,\"#46039f\"],[0.2222222222222222,\"#7201a8\"],[0.3333333333333333,\"#9c179e\"],[0.4444444444444444,\"#bd3786\"],[0.5555555555555556,\"#d8576b\"],[0.6666666666666666,\"#ed7953\"],[0.7777777777777778,\"#fb9f3a\"],[0.8888888888888888,\"#fdca26\"],[1.0,\"#f0f921\"]],\"type\":\"surface\"}],\"table\":[{\"cells\":{\"fill\":{\"color\":\"#506784\"},\"line\":{\"color\":\"rgb(17,17,17)\"}},\"header\":{\"fill\":{\"color\":\"#2a3f5f\"},\"line\":{\"color\":\"rgb(17,17,17)\"}},\"type\":\"table\"}]},\"layout\":{\"annotationdefaults\":{\"arrowcolor\":\"#f2f5fa\",\"arrowhead\":0,\"arrowwidth\":1},\"autotypenumbers\":\"strict\",\"coloraxis\":{\"colorbar\":{\"outlinewidth\":0,\"ticks\":\"\"}},\"colorscale\":{\"diverging\":[[0,\"#8e0152\"],[0.1,\"#c51b7d\"],[0.2,\"#de77ae\"],[0.3,\"#f1b6da\"],[0.4,\"#fde0ef\"],[0.5,\"#f7f7f7\"],[0.6,\"#e6f5d0\"],[0.7,\"#b8e186\"],[0.8,\"#7fbc41\"],[0.9,\"#4d9221\"],[1,\"#276419\"]],\"sequential\":[[0.0,\"#0d0887\"],[0.1111111111111111,\"#46039f\"],[0.2222222222222222,\"#7201a8\"],[0.3333333333333333,\"#9c179e\"],[0.4444444444444444,\"#bd3786\"],[0.5555555555555556,\"#d8576b\"],[0.6666666666666666,\"#ed7953\"],[0.7777777777777778,\"#fb9f3a\"],[0.8888888888888888,\"#fdca26\"],[1.0,\"#f0f921\"]],\"sequentialminus\":[[0.0,\"#0d0887\"],[0.1111111111111111,\"#46039f\"],[0.2222222222222222,\"#7201a8\"],[0.3333333333333333,\"#9c179e\"],[0.4444444444444444,\"#bd3786\"],[0.5555555555555556,\"#d8576b\"],[0.6666666666666666,\"#ed7953\"],[0.7777777777777778,\"#fb9f3a\"],[0.8888888888888888,\"#fdca26\"],[1.0,\"#f0f921\"]]},\"colorway\":[\"#636efa\",\"#EF553B\",\"#00cc96\",\"#ab63fa\",\"#FFA15A\",\"#19d3f3\",\"#FF6692\",\"#B6E880\",\"#FF97FF\",\"#FECB52\"],\"font\":{\"color\":\"#f2f5fa\"},\"geo\":{\"bgcolor\":\"rgb(17,17,17)\",\"lakecolor\":\"rgb(17,17,17)\",\"landcolor\":\"rgb(17,17,17)\",\"showlakes\":true,\"showland\":true,\"subunitcolor\":\"#506784\"},\"hoverlabel\":{\"align\":\"left\"},\"hovermode\":\"closest\",\"mapbox\":{\"style\":\"dark\"},\"paper_bgcolor\":\"rgb(17,17,17)\",\"plot_bgcolor\":\"rgb(17,17,17)\",\"polar\":{\"angularaxis\":{\"gridcolor\":\"#506784\",\"linecolor\":\"#506784\",\"ticks\":\"\"},\"bgcolor\":\"rgb(17,17,17)\",\"radialaxis\":{\"gridcolor\":\"#506784\",\"linecolor\":\"#506784\",\"ticks\":\"\"}},\"scene\":{\"xaxis\":{\"backgroundcolor\":\"rgb(17,17,17)\",\"gridcolor\":\"#506784\",\"gridwidth\":2,\"linecolor\":\"#506784\",\"showbackground\":true,\"ticks\":\"\",\"zerolinecolor\":\"#C8D4E3\"},\"yaxis\":{\"backgroundcolor\":\"rgb(17,17,17)\",\"gridcolor\":\"#506784\",\"gridwidth\":2,\"linecolor\":\"#506784\",\"showbackground\":true,\"ticks\":\"\",\"zerolinecolor\":\"#C8D4E3\"},\"zaxis\":{\"backgroundcolor\":\"rgb(17,17,17)\",\"gridcolor\":\"#506784\",\"gridwidth\":2,\"linecolor\":\"#506784\",\"showbackground\":true,\"ticks\":\"\",\"zerolinecolor\":\"#C8D4E3\"}},\"shapedefaults\":{\"line\":{\"color\":\"#f2f5fa\"}},\"sliderdefaults\":{\"bgcolor\":\"#C8D4E3\",\"bordercolor\":\"rgb(17,17,17)\",\"borderwidth\":1,\"tickwidth\":0},\"ternary\":{\"aaxis\":{\"gridcolor\":\"#506784\",\"linecolor\":\"#506784\",\"ticks\":\"\"},\"baxis\":{\"gridcolor\":\"#506784\",\"linecolor\":\"#506784\",\"ticks\":\"\"},\"bgcolor\":\"rgb(17,17,17)\",\"caxis\":{\"gridcolor\":\"#506784\",\"linecolor\":\"#506784\",\"ticks\":\"\"}},\"title\":{\"x\":0.05},\"updatemenudefaults\":{\"bgcolor\":\"#506784\",\"borderwidth\":0},\"xaxis\":{\"automargin\":true,\"gridcolor\":\"#283442\",\"linecolor\":\"#506784\",\"ticks\":\"\",\"title\":{\"standoff\":15},\"zerolinecolor\":\"#283442\",\"zerolinewidth\":2},\"yaxis\":{\"automargin\":true,\"gridcolor\":\"#283442\",\"linecolor\":\"#506784\",\"ticks\":\"\",\"title\":{\"standoff\":15},\"zerolinecolor\":\"#283442\",\"zerolinewidth\":2}}},\"geo\":{\"domain\":{\"x\":[0.0,1.0],\"y\":[0.0,1.0]},\"projection\":{\"type\":\"natural earth\"},\"center\":{}},\"coloraxis\":{\"colorbar\":{\"title\":{\"text\":\"Confirmed\"}},\"colorscale\":[[0.0,\"#0d0887\"],[0.1111111111111111,\"#46039f\"],[0.2222222222222222,\"#7201a8\"],[0.3333333333333333,\"#9c179e\"],[0.4444444444444444,\"#bd3786\"],[0.5555555555555556,\"#d8576b\"],[0.6666666666666666,\"#ed7953\"],[0.7777777777777778,\"#fb9f3a\"],[0.8888888888888888,\"#fdca26\"],[1.0,\"#f0f921\"]]},\"legend\":{\"tracegroupgap\":0,\"itemsizing\":\"constant\"},\"margin\":{\"t\":60}},                        {\"responsive\": true}                    ).then(function(){\n",
       "                            \n",
       "var gd = document.getElementById('18b529f9-d216-4c45-aa26-b5555d38a555');\n",
       "var x = new MutationObserver(function (mutations, observer) {{\n",
       "        var display = window.getComputedStyle(gd).display;\n",
       "        if (!display || display === 'none') {{\n",
       "            console.log([gd, 'removed!']);\n",
       "            Plotly.purge(gd);\n",
       "            observer.disconnect();\n",
       "        }}\n",
       "}});\n",
       "\n",
       "// Listen for the removal of the full notebook cells\n",
       "var notebookContainer = gd.closest('#notebook-container');\n",
       "if (notebookContainer) {{\n",
       "    x.observe(notebookContainer, {childList: true});\n",
       "}}\n",
       "\n",
       "// Listen for the clearing of the current output cell\n",
       "var outputEl = gd.closest('.output');\n",
       "if (outputEl) {{\n",
       "    x.observe(outputEl, {childList: true});\n",
       "}}\n",
       "\n",
       "                        })                };                });            </script>        </div>"
      ]
     },
     "metadata": {},
     "output_type": "display_data"
    }
   ],
   "source": [
    "import plotly.express as px\n",
    "from data import countries_df\n",
    "fig=px.scatter_geo(\n",
    "    countries_df,\n",
    "    size=\"Confirmed\",\n",
    "    hover_name=\"Country_Region\",\n",
    "    color=\"Confirmed\",\n",
    "    locations=\"Country_Region\",\n",
    "    locationmode=\"country names\",\n",
    "    size_max=40,\n",
    "    template=\"plotly_dark\",\n",
    "    projection=\"natural earth\",\n",
    "    hover_data={\n",
    "        \"Confirmed\": \":.2f\",\n",
    "        \"Deaths\": \":.2f\",\n",
    "        \"Recovered\": \":.2f\",\n",
    "        \"Country_Region\": False,\n",
    "    },\n",
    ")\n",
    "fig.show()"
   ]
  }
 ],
 "metadata": {
  "kernelspec": {
   "display_name": "Python 3 (ipykernel)",
   "language": "python",
   "name": "python3"
  },
  "language_info": {
   "codemirror_mode": {
    "name": "ipython",
    "version": 3
   },
   "file_extension": ".py",
   "mimetype": "text/x-python",
   "name": "python",
   "nbconvert_exporter": "python",
   "pygments_lexer": "ipython3",
   "version": "3.12.4"
  }
 },
 "nbformat": 4,
 "nbformat_minor": 5
}
