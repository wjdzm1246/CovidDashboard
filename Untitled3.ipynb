{
 "cells": [
  {
   "cell_type": "code",
   "execution_count": 10,
   "id": "f45b91d1-70c6-45f0-8171-5516ee506d8b",
   "metadata": {},
   "outputs": [
    {
     "name": "stdout",
     "output_type": "stream",
     "text": [
      "      FIPS Admin2 Province_State        Country_Region          Last_Update  \\\n",
      "0      NaN    NaN            NaN           Afghanistan  2023-03-10 04:21:03   \n",
      "1      NaN    NaN            NaN               Albania  2023-03-10 04:21:03   \n",
      "2      NaN    NaN            NaN               Algeria  2023-03-10 04:21:03   \n",
      "3      NaN    NaN            NaN               Andorra  2023-03-10 04:21:03   \n",
      "4      NaN    NaN            NaN                Angola  2023-03-10 04:21:03   \n",
      "...    ...    ...            ...                   ...                  ...   \n",
      "4011   NaN    NaN            NaN    West Bank and Gaza  2023-03-10 04:21:03   \n",
      "4012   NaN    NaN            NaN  Winter Olympics 2022  2023-03-10 04:21:03   \n",
      "4013   NaN    NaN            NaN                 Yemen  2023-03-10 04:21:03   \n",
      "4014   NaN    NaN            NaN                Zambia  2023-03-10 04:21:03   \n",
      "4015   NaN    NaN            NaN              Zimbabwe  2023-03-10 04:21:03   \n",
      "\n",
      "            Lat       Long_  Confirmed  Deaths  Recovered  Active  \\\n",
      "0     33.939110   67.709953     209451    7896        NaN     NaN   \n",
      "1     41.153300   20.168300     334457    3598        NaN     NaN   \n",
      "2     28.033900    1.659600     271496    6881        NaN     NaN   \n",
      "3     42.506300    1.521800      47890     165        NaN     NaN   \n",
      "4    -11.202700   17.873900     105288    1933        NaN     NaN   \n",
      "...         ...         ...        ...     ...        ...     ...   \n",
      "4011  31.952200   35.233200     703228    5708        NaN     NaN   \n",
      "4012  39.904200  116.407400        535       0        NaN     NaN   \n",
      "4013  15.552727   48.516388      11945    2159        NaN     NaN   \n",
      "4014 -13.133897   27.849332     343135    4057        NaN     NaN   \n",
      "4015 -19.015438   29.154857     264276    5671        NaN     NaN   \n",
      "\n",
      "              Combined_Key  Incident_Rate  Case_Fatality_Ratio  \n",
      "0              Afghanistan     538.042451             3.769855  \n",
      "1                  Albania   11621.968170             1.075774  \n",
      "2                  Algeria     619.132366             2.534476  \n",
      "3                  Andorra   61981.492267             0.344540  \n",
      "4                   Angola     320.352770             1.835917  \n",
      "...                    ...            ...                  ...  \n",
      "4011    West Bank and Gaza   13784.956961             0.811686  \n",
      "4012  Winter Olympics 2022            NaN             0.000000  \n",
      "4013                 Yemen      40.048994            18.074508  \n",
      "4014                Zambia    1866.491630             1.182333  \n",
      "4015              Zimbabwe    1778.088529             2.145863  \n",
      "\n",
      "[4016 rows x 14 columns]\n"
     ]
    }
   ],
   "source": [
    "import pandas as pd\n",
    "\n",
    "daily_df = pd.read_csv(\"data/daily_report.csv\")\n",
    "totals_df = (\n",
    "\n",
    "    daily_df[[\"Confirmed\", \"Deaths\", \"Recovered\"]].sum().reset_index(name=\"count\")\n",
    ")\n",
    "totals_df = totals_df.rename(columns={\"index\": \"condition\"})\n",
    "\n",
    "countries_df = daily_df[[\"Country_Region\", \"Confirmed\", \"Deaths\", \"Recovered\"]]\n",
    "countries_df = countries_df.groupby(\"Country_Region\").sum().reset_index()\n",
    "\n",
    "totals_df \n",
    "\n",
    "countries_df\n"
   ]
  }
 ],
 "metadata": {
  "kernelspec": {
   "display_name": "Python 3 (ipykernel)",
   "language": "python",
   "name": "python3"
  },
  "language_info": {
   "codemirror_mode": {
    "name": "ipython",
    "version": 3
   },
   "file_extension": ".py",
   "mimetype": "text/x-python",
   "name": "python",
   "nbconvert_exporter": "python",
   "pygments_lexer": "ipython3",
   "version": "3.12.4"
  }
 },
 "nbformat": 4,
 "nbformat_minor": 5
}
